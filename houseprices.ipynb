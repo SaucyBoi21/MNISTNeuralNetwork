{
 "cells": [
  {
   "cell_type": "code",
   "execution_count": null,
   "metadata": {},
   "outputs": [],
   "source": []
  }
 ],
 "metadata": {
  "kernelspec": {
   "display_name": "Python 3.10.8 ('venv': venv)",
   "language": "python",
   "name": "python3"
  },
  "language_info": {
   "name": "python",
   "version": "3.10.8"
  },
  "orig_nbformat": 4,
  "vscode": {
   "interpreter": {
    "hash": "fa7f543e206541567baabd576f52b84bd25f39c555a6c15e44a90eb26ad6cbe0"
   }
  }
 },
 "nbformat": 4,
 "nbformat_minor": 2
}
